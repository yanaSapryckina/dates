{
 "cells": [
  {
   "cell_type": "code",
   "execution_count": null,
   "metadata": {},
   "outputs": [],
   "source": [
    "from datetime import datetime\n",
    "datetime.strptime('The Moscow Times - Wednesday, October 2, 2002', 'The Moscow Times - %A, %B %d, %Y')\n",
    "datetime.strptime('The Guardian - Friday, 11.10.13', 'The Guardian - %A, %m.%d.%y')\n",
    "datetime.strptime('Daily News - Thursday, 18 August 1977', 'Daily News - %A, %d %B %Y')\n"
   ]
  }
 ],
 "metadata": {
  "kernelspec": {
   "display_name": "Python 3",
   "language": "python",
   "name": "python3"
  },
  "language_info": {
   "codemirror_mode": {
    "name": "ipython",
    "version": 3
   },
   "file_extension": ".py",
   "mimetype": "text/x-python",
   "name": "python",
   "nbconvert_exporter": "python",
   "pygments_lexer": "ipython3",
   "version": "3.8.3"
  }
 },
 "nbformat": 4,
 "nbformat_minor": 4
}
