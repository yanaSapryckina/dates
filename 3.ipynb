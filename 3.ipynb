{
 "cells": [
  {
   "cell_type": "code",
   "execution_count": 10,
   "metadata": {
    "scrolled": false
   },
   "outputs": [
    {
     "name": "stdout",
     "output_type": "stream",
     "text": [
      "date 12020-03-10\n",
      "date 22020-03-03\n",
      "\n"
     ]
    }
   ],
   "source": [
    "from datetime import timedelta\n",
    "from datetime import datetime\n",
    "\n",
    "start_date = input('date 1')\n",
    "end_date = input('date 2')\n",
    "if start_date > end_date:\n",
    "    print('')\n",
    "else:\n",
    "    try:\n",
    "        start_date_ = datetime.strptime(start_date, '%Y-%m-%d')\n",
    "        end_date_ = datetime.strptime(end_date, '%Y-%m-%d')\n",
    "        current_date = start_date_\n",
    "        while current_date <= end_date_:\n",
    "            print(current_date.strftime('%Y-%m-%d'))\n",
    "            current_date += timedelta(days=1)\n",
    "    except:\n",
    "        print('')"
   ]
  }
 ],
 "metadata": {
  "kernelspec": {
   "display_name": "Python 3",
   "language": "python",
   "name": "python3"
  },
  "language_info": {
   "codemirror_mode": {
    "name": "ipython",
    "version": 3
   },
   "file_extension": ".py",
   "mimetype": "text/x-python",
   "name": "python",
   "nbconvert_exporter": "python",
   "pygments_lexer": "ipython3",
   "version": "3.8.3"
  }
 },
 "nbformat": 4,
 "nbformat_minor": 4
}
